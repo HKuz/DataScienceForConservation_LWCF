{
 "cells": [
  {
   "cell_type": "markdown",
   "metadata": {},
   "source": [
    "# LWCF Grant Funding in New England\n",
    "\n",
    "The following analysis is based on grant information by state from 1965-2011 compiled by [Investigate West](http://www.invw.org/2012/06/11/lwcf-grants-database-1283/). There doesn't seem to be recent information. The Land and Water Conservation Fund (LWCF) [Project List by County and Summary Reports](https://waso-lwcf.ncrc.nps.gov/public/index.cfm) page is generally unresponsive and the latest Annual Report posted on nps.gov is from 2012."
   ]
  },
  {
   "cell_type": "code",
   "execution_count": 1,
   "metadata": {},
   "outputs": [],
   "source": [
    "import numpy as np\n",
    "import pandas as pd\n",
    "\n",
    "import matplotlib.pyplot as plt\n",
    "%matplotlib inline\n",
    "\n",
    "import seaborn as sns"
   ]
  },
  {
   "cell_type": "code",
   "execution_count": 2,
   "metadata": {},
   "outputs": [],
   "source": [
    "# Import data sets and concatenate into one DataFrame\n",
    "states = ['CT', 'MA', 'ME', 'NH', 'RI', 'VT']\n",
    "base_path = './Data/StateGrantData/CT_LWCFGrants1965-2011.xlsx'\n",
    "temp_dfs = []\n",
    "\n",
    "for state in states:\n",
    "    temp_df = pd.read_excel('./Data/StateGrantData/{}_LWCFGrants1965-2011.xlsx'.format(state))\n",
    "    temp_dfs.append(temp_df)\n",
    "\n",
    "new_england = pd.concat(temp_dfs, ignore_index=True)"
   ]
  },
  {
   "cell_type": "code",
   "execution_count": 3,
   "metadata": {},
   "outputs": [
    {
     "data": {
      "text/html": [
       "<div>\n",
       "<style scoped>\n",
       "    .dataframe tbody tr th:only-of-type {\n",
       "        vertical-align: middle;\n",
       "    }\n",
       "\n",
       "    .dataframe tbody tr th {\n",
       "        vertical-align: top;\n",
       "    }\n",
       "\n",
       "    .dataframe thead th {\n",
       "        text-align: right;\n",
       "    }\n",
       "</style>\n",
       "<table border=\"1\" class=\"dataframe\">\n",
       "  <thead>\n",
       "    <tr style=\"text-align: right;\">\n",
       "      <th></th>\n",
       "      <th>Grant ID &amp; Element</th>\n",
       "      <th>Grant Name</th>\n",
       "      <th>Sponsor</th>\n",
       "      <th>County</th>\n",
       "      <th>State</th>\n",
       "      <th>Grant Amount</th>\n",
       "      <th>Year Approved</th>\n",
       "      <th>Year Completed</th>\n",
       "      <th>Type</th>\n",
       "    </tr>\n",
       "  </thead>\n",
       "  <tbody>\n",
       "    <tr>\n",
       "      <th>0</th>\n",
       "      <td>1 - XXX</td>\n",
       "      <td>SULLIVAN PROPERTY</td>\n",
       "      <td>DEPT. OF AGRICULTURE &amp; NATURAL RESOU</td>\n",
       "      <td>HARTFORD</td>\n",
       "      <td>CT</td>\n",
       "      <td>5000.0</td>\n",
       "      <td>1965</td>\n",
       "      <td>1967</td>\n",
       "      <td>Acquisition</td>\n",
       "    </tr>\n",
       "    <tr>\n",
       "      <th>1</th>\n",
       "      <td>3 - XXX</td>\n",
       "      <td>ADELMAN FIELD</td>\n",
       "      <td>TOWN OF BOZRAH</td>\n",
       "      <td>MIDDLESEX</td>\n",
       "      <td>CT</td>\n",
       "      <td>3000.0</td>\n",
       "      <td>1965</td>\n",
       "      <td>1966</td>\n",
       "      <td>Acquisition</td>\n",
       "    </tr>\n",
       "    <tr>\n",
       "      <th>2</th>\n",
       "      <td>4 - XXX</td>\n",
       "      <td>STATE OUTDOOR RECREATION PLAN</td>\n",
       "      <td>DEPT. OF AGRICULTURE &amp; NATURAL RESOU</td>\n",
       "      <td>PLANNING</td>\n",
       "      <td>CT</td>\n",
       "      <td>22500.0</td>\n",
       "      <td>1965</td>\n",
       "      <td>1966</td>\n",
       "      <td>Planning</td>\n",
       "    </tr>\n",
       "    <tr>\n",
       "      <th>3</th>\n",
       "      <td>5 - XXX</td>\n",
       "      <td>COUTU PROPERTY</td>\n",
       "      <td>TOWN OF MANSFIELD</td>\n",
       "      <td>TOLLAND</td>\n",
       "      <td>CT</td>\n",
       "      <td>300.0</td>\n",
       "      <td>1965</td>\n",
       "      <td>1967</td>\n",
       "      <td>Acquisition</td>\n",
       "    </tr>\n",
       "    <tr>\n",
       "      <th>4</th>\n",
       "      <td>2 - XXX</td>\n",
       "      <td>GOODWIN STATE FOREST</td>\n",
       "      <td>DEPT. OF AGRICULTURE &amp; NATURAL RESOU</td>\n",
       "      <td>WINDHAM</td>\n",
       "      <td>CT</td>\n",
       "      <td>6000.0</td>\n",
       "      <td>1965</td>\n",
       "      <td>1967</td>\n",
       "      <td>Acquisition</td>\n",
       "    </tr>\n",
       "  </tbody>\n",
       "</table>\n",
       "</div>"
      ],
      "text/plain": [
       "  Grant ID & Element                     Grant Name  \\\n",
       "0            1 - XXX              SULLIVAN PROPERTY   \n",
       "1            3 - XXX                  ADELMAN FIELD   \n",
       "2            4 - XXX  STATE OUTDOOR RECREATION PLAN   \n",
       "3            5 - XXX                 COUTU PROPERTY   \n",
       "4            2 - XXX           GOODWIN STATE FOREST   \n",
       "\n",
       "                                Sponsor     County State  Grant Amount  \\\n",
       "0  DEPT. OF AGRICULTURE & NATURAL RESOU   HARTFORD    CT        5000.0   \n",
       "1                        TOWN OF BOZRAH  MIDDLESEX    CT        3000.0   \n",
       "2  DEPT. OF AGRICULTURE & NATURAL RESOU   PLANNING    CT       22500.0   \n",
       "3                     TOWN OF MANSFIELD    TOLLAND    CT         300.0   \n",
       "4  DEPT. OF AGRICULTURE & NATURAL RESOU    WINDHAM    CT        6000.0   \n",
       "\n",
       "   Year Approved  Year Completed         Type  \n",
       "0           1965            1967  Acquisition  \n",
       "1           1965            1966  Acquisition  \n",
       "2           1965            1966     Planning  \n",
       "3           1965            1967  Acquisition  \n",
       "4           1965            1967  Acquisition  "
      ]
     },
     "execution_count": 3,
     "metadata": {},
     "output_type": "execute_result"
    }
   ],
   "source": [
    "new_england.head()"
   ]
  },
  {
   "cell_type": "code",
   "execution_count": 4,
   "metadata": {},
   "outputs": [
    {
     "data": {
      "text/html": [
       "<div>\n",
       "<style scoped>\n",
       "    .dataframe tbody tr th:only-of-type {\n",
       "        vertical-align: middle;\n",
       "    }\n",
       "\n",
       "    .dataframe tbody tr th {\n",
       "        vertical-align: top;\n",
       "    }\n",
       "\n",
       "    .dataframe thead th {\n",
       "        text-align: right;\n",
       "    }\n",
       "</style>\n",
       "<table border=\"1\" class=\"dataframe\">\n",
       "  <thead>\n",
       "    <tr style=\"text-align: right;\">\n",
       "      <th></th>\n",
       "      <th>Grant ID &amp; Element</th>\n",
       "      <th>Grant Name</th>\n",
       "      <th>Sponsor</th>\n",
       "      <th>County</th>\n",
       "      <th>State</th>\n",
       "      <th>Grant Amount</th>\n",
       "      <th>Year Approved</th>\n",
       "      <th>Year Completed</th>\n",
       "      <th>Type</th>\n",
       "    </tr>\n",
       "  </thead>\n",
       "  <tbody>\n",
       "    <tr>\n",
       "      <th>3255</th>\n",
       "      <td>626 - XXX</td>\n",
       "      <td>Grand Isle School Community Playground</td>\n",
       "      <td>Town of Grand Isle</td>\n",
       "      <td>GRAND ISLE</td>\n",
       "      <td>VT</td>\n",
       "      <td>34962.0</td>\n",
       "      <td>2011</td>\n",
       "      <td>2011</td>\n",
       "      <td>Development</td>\n",
       "    </tr>\n",
       "    <tr>\n",
       "      <th>3256</th>\n",
       "      <td>629 - XXX</td>\n",
       "      <td>Cabin Construction - Three State Parks</td>\n",
       "      <td>State of Vermont, Dept.of Forests and Parks</td>\n",
       "      <td>MULTI-COUNTY</td>\n",
       "      <td>VT</td>\n",
       "      <td>153638.0</td>\n",
       "      <td>2011</td>\n",
       "      <td>2011</td>\n",
       "      <td>Development</td>\n",
       "    </tr>\n",
       "    <tr>\n",
       "      <th>3257</th>\n",
       "      <td>624 - XXX</td>\n",
       "      <td>Tunbridge Recreation Area Acquisition</td>\n",
       "      <td>Town of Tunbridge</td>\n",
       "      <td>ORANGE</td>\n",
       "      <td>VT</td>\n",
       "      <td>11035.0</td>\n",
       "      <td>2011</td>\n",
       "      <td>2011</td>\n",
       "      <td>Acquisition</td>\n",
       "    </tr>\n",
       "    <tr>\n",
       "      <th>3258</th>\n",
       "      <td>625 - XXX</td>\n",
       "      <td>Fair Haven Recreation Area and Playground</td>\n",
       "      <td>Town of Fair Haven</td>\n",
       "      <td>RUTLAND</td>\n",
       "      <td>VT</td>\n",
       "      <td>13000.0</td>\n",
       "      <td>2011</td>\n",
       "      <td>2011</td>\n",
       "      <td>Development</td>\n",
       "    </tr>\n",
       "    <tr>\n",
       "      <th>3259</th>\n",
       "      <td>627 - XXX</td>\n",
       "      <td>Chester Recreation - Community Pavilion Project</td>\n",
       "      <td>Town of Chester</td>\n",
       "      <td>WINDSOR</td>\n",
       "      <td>VT</td>\n",
       "      <td>17000.0</td>\n",
       "      <td>2011</td>\n",
       "      <td>2011</td>\n",
       "      <td>Development</td>\n",
       "    </tr>\n",
       "  </tbody>\n",
       "</table>\n",
       "</div>"
      ],
      "text/plain": [
       "     Grant ID & Element                                       Grant Name  \\\n",
       "3255          626 - XXX           Grand Isle School Community Playground   \n",
       "3256          629 - XXX           Cabin Construction - Three State Parks   \n",
       "3257          624 - XXX            Tunbridge Recreation Area Acquisition   \n",
       "3258          625 - XXX        Fair Haven Recreation Area and Playground   \n",
       "3259          627 - XXX  Chester Recreation - Community Pavilion Project   \n",
       "\n",
       "                                          Sponsor        County State  \\\n",
       "3255                           Town of Grand Isle    GRAND ISLE    VT   \n",
       "3256  State of Vermont, Dept.of Forests and Parks  MULTI-COUNTY    VT   \n",
       "3257                            Town of Tunbridge        ORANGE    VT   \n",
       "3258                           Town of Fair Haven       RUTLAND    VT   \n",
       "3259                              Town of Chester       WINDSOR    VT   \n",
       "\n",
       "      Grant Amount  Year Approved  Year Completed         Type  \n",
       "3255       34962.0           2011            2011  Development  \n",
       "3256      153638.0           2011            2011  Development  \n",
       "3257       11035.0           2011            2011  Acquisition  \n",
       "3258       13000.0           2011            2011  Development  \n",
       "3259       17000.0           2011            2011  Development  "
      ]
     },
     "execution_count": 4,
     "metadata": {},
     "output_type": "execute_result"
    }
   ],
   "source": [
    "new_england.tail()"
   ]
  },
  {
   "cell_type": "code",
   "execution_count": 5,
   "metadata": {},
   "outputs": [
    {
     "data": {
      "text/plain": [
       "(3260, 9)"
      ]
     },
     "execution_count": 5,
     "metadata": {},
     "output_type": "execute_result"
    }
   ],
   "source": [
    "new_england.shape"
   ]
  },
  {
   "cell_type": "code",
   "execution_count": 6,
   "metadata": {},
   "outputs": [
    {
     "name": "stdout",
     "output_type": "stream",
     "text": [
      "<class 'pandas.core.frame.DataFrame'>\n",
      "RangeIndex: 3260 entries, 0 to 3259\n",
      "Data columns (total 9 columns):\n",
      "Grant ID & Element    3260 non-null object\n",
      "Grant Name            3260 non-null object\n",
      "Sponsor               3260 non-null object\n",
      "County                3260 non-null object\n",
      "State                 3260 non-null object\n",
      "Grant Amount          3260 non-null float64\n",
      "Year Approved         3260 non-null int64\n",
      "Year Completed        3260 non-null int64\n",
      "Type                  3260 non-null object\n",
      "dtypes: float64(1), int64(2), object(6)\n",
      "memory usage: 229.3+ KB\n"
     ]
    }
   ],
   "source": [
    "new_england.info()"
   ]
  },
  {
   "cell_type": "code",
   "execution_count": 7,
   "metadata": {},
   "outputs": [
    {
     "data": {
      "text/html": [
       "<div>\n",
       "<style scoped>\n",
       "    .dataframe tbody tr th:only-of-type {\n",
       "        vertical-align: middle;\n",
       "    }\n",
       "\n",
       "    .dataframe tbody tr th {\n",
       "        vertical-align: top;\n",
       "    }\n",
       "\n",
       "    .dataframe thead th {\n",
       "        text-align: right;\n",
       "    }\n",
       "</style>\n",
       "<table border=\"1\" class=\"dataframe\">\n",
       "  <thead>\n",
       "    <tr style=\"text-align: right;\">\n",
       "      <th></th>\n",
       "      <th>Grant Amount</th>\n",
       "    </tr>\n",
       "  </thead>\n",
       "  <tbody>\n",
       "    <tr>\n",
       "      <th>count</th>\n",
       "      <td>3.260000e+03</td>\n",
       "    </tr>\n",
       "    <tr>\n",
       "      <th>mean</th>\n",
       "      <td>9.548901e+04</td>\n",
       "    </tr>\n",
       "    <tr>\n",
       "      <th>std</th>\n",
       "      <td>1.972163e+05</td>\n",
       "    </tr>\n",
       "    <tr>\n",
       "      <th>min</th>\n",
       "      <td>1.200000e-01</td>\n",
       "    </tr>\n",
       "    <tr>\n",
       "      <th>25%</th>\n",
       "      <td>1.507696e+04</td>\n",
       "    </tr>\n",
       "    <tr>\n",
       "      <th>50%</th>\n",
       "      <td>3.449163e+04</td>\n",
       "    </tr>\n",
       "    <tr>\n",
       "      <th>75%</th>\n",
       "      <td>9.000000e+04</td>\n",
       "    </tr>\n",
       "    <tr>\n",
       "      <th>max</th>\n",
       "      <td>2.596327e+06</td>\n",
       "    </tr>\n",
       "  </tbody>\n",
       "</table>\n",
       "</div>"
      ],
      "text/plain": [
       "       Grant Amount\n",
       "count  3.260000e+03\n",
       "mean   9.548901e+04\n",
       "std    1.972163e+05\n",
       "min    1.200000e-01\n",
       "25%    1.507696e+04\n",
       "50%    3.449163e+04\n",
       "75%    9.000000e+04\n",
       "max    2.596327e+06"
      ]
     },
     "execution_count": 7,
     "metadata": {},
     "output_type": "execute_result"
    }
   ],
   "source": [
    "# Grant Amount summary statistics\n",
    "(new_england[['Grant Amount']]).describe()"
   ]
  },
  {
   "cell_type": "markdown",
   "metadata": {},
   "source": [
    "## Distribution of Total Grant Amounts"
   ]
  },
  {
   "cell_type": "code",
   "execution_count": 8,
   "metadata": {},
   "outputs": [
    {
     "data": {
      "image/png": "[encoded data removed]",
      "text/plain": [
       "<Figure size 432x288 with 1 Axes>"
      ]
     },
     "metadata": {
      "needs_background": "light"
     },
     "output_type": "display_data"
    }
   ],
   "source": [
    "# Kernel density and rug plot of grant amounts\n",
    "ne_grants = new_england['Grant Amount']  # save Grant Amount column as series\n",
    "sns.distplot(ne_grants, hist=False, rug=True);"
   ]
  },
  {
   "cell_type": "markdown",
   "metadata": {},
   "source": [
    "The kernel density plot for grant amounts shows a strongly right-skewed distribution, as also shown by the almost 3x difference between the mean (95,489) and median (34,491) values. Three-quarters of all grants are valued at 90,000 or less, but the presence of multi-million grants pulls the mean value higher than the third quartile."
   ]
  },
  {
   "cell_type": "code",
   "execution_count": 9,
   "metadata": {},
   "outputs": [
    {
     "data": {
      "text/plain": [
       "<matplotlib.axes._subplots.AxesSubplot at 0x1a21faa7f0>"
      ]
     },
     "execution_count": 9,
     "metadata": {},
     "output_type": "execute_result"
    },
    {
     "data": {
      "image/png": "[encoded data removed]",
      "text/plain": [
       "<Figure size 432x288 with 1 Axes>"
      ]
     },
     "metadata": {
      "needs_background": "light"
     },
     "output_type": "display_data"
    }
   ],
   "source": [
    "# Box plot of grant amounts to show outliers\n",
    "sns.boxplot(ne_grants)"
   ]
  },
  {
   "cell_type": "code",
   "execution_count": 10,
   "metadata": {},
   "outputs": [
    {
     "name": "stdout",
     "output_type": "stream",
     "text": [
      "IQR: 74,923\n",
      "The threshold for a high grant amount outlier: $202,385\n",
      "Number of high grant amount outliers: 366\n"
     ]
    }
   ],
   "source": [
    "first_q = ne_grants.describe()['25%']\n",
    "median = ne_grants.describe()['50%']\n",
    "third_q = ne_grants.describe()['75%']\n",
    "iqr = third_q - first_q\n",
    "print('IQR: {0:,.0f}'.format(iqr))\n",
    "outlier_low = first_q - 1.5 * iqr\n",
    "outlier_high = 1.5 * iqr + third_q\n",
    "print('The threshold for a high grant amount outlier: ${0:,.0f}'.format(outlier_high))\n",
    "num_outliers = ne_grants[ne_grants > outlier_high].count()\n",
    "print('Number of high grant amount outliers: {0:,.0f}'.format(num_outliers))"
   ]
  },
  {
   "cell_type": "markdown",
   "metadata": {},
   "source": [
    "There are no low-end outliers (the first quartile less 1.5 times IQR is a negative number), but 366 high-end outliers. These are grant values above \\$202,385, which is 1.5 times the interquartile range plus the third quartile amount. Out of the total data set of 3,260 observations, this is approximately 11% of the data set."
   ]
  },
  {
   "cell_type": "markdown",
   "metadata": {},
   "source": [
    "## Total Grant Amounts by State"
   ]
  },
  {
   "cell_type": "code",
   "execution_count": 36,
   "metadata": {},
   "outputs": [
    {
     "data": {
      "text/plain": [
       "State\n",
       "CT    374\n",
       "MA    450\n",
       "ME    831\n",
       "NH    640\n",
       "RI    336\n",
       "VT    629\n",
       "Name: Grant Amount, dtype: int64"
      ]
     },
     "execution_count": 36,
     "metadata": {},
     "output_type": "execute_result"
    }
   ],
   "source": [
    "# State Grant Totals by count\n",
    "num_grants = new_england.groupby('State').count()['Grant Amount']\n",
    "num_grants"
   ]
  },
  {
   "cell_type": "code",
   "execution_count": 11,
   "metadata": {},
   "outputs": [
    {
     "data": {
      "text/plain": [
       "State\n",
       "CT    63.195093\n",
       "MA    97.591917\n",
       "ME    40.857039\n",
       "NH    36.508412\n",
       "RI    39.826280\n",
       "VT    33.315420\n",
       "Name: Grant Amount, dtype: float64"
      ]
     },
     "execution_count": 11,
     "metadata": {},
     "output_type": "execute_result"
    }
   ],
   "source": [
    "# State Grant Totals in millions\n",
    "total_grants = new_england.groupby('State').sum()['Grant Amount'] / 1000000\n",
    "total_grants"
   ]
  },
  {
   "cell_type": "code",
   "execution_count": 32,
   "metadata": {},
   "outputs": [
    {
     "data": {
      "text/plain": [
       "311.29416275999995"
      ]
     },
     "execution_count": 32,
     "metadata": {},
     "output_type": "execute_result"
    }
   ],
   "source": [
    "# Total grant amounts (in millions) for New England\n",
    "sum(total_grants)"
   ]
  },
  {
   "cell_type": "code",
   "execution_count": 12,
   "metadata": {},
   "outputs": [
    {
     "data": {
      "image/png": "[encoded data removed]",
      "text/plain": [
       "<Figure size 432x288 with 1 Axes>"
      ]
     },
     "metadata": {
      "needs_background": "light"
     },
     "output_type": "display_data"
    }
   ],
   "source": [
    "# Plot total grant amounts by state\n",
    "y_pos = np.arange(len(states))\n",
    "\n",
    "plt.figure()\n",
    "plt.bar(y_pos, total_grants, align='center');\n",
    "plt.xticks(y_pos, states);\n",
    "plt.title('Total Grants by State (US$)');\n",
    "plt.ylabel('Grants in US$ millions');\n",
    "plt.show()"
   ]
  },
  {
   "cell_type": "code",
   "execution_count": 13,
   "metadata": {},
   "outputs": [
    {
     "data": {
      "image/png": "[encoded data removed]",
      "text/plain": [
       "<Figure size 720x720 with 1 Axes>"
      ]
     },
     "metadata": {},
     "output_type": "display_data"
    }
   ],
   "source": [
    "total_grants.plot(kind='pie', figsize=(10, 10));"
   ]
  },
  {
   "cell_type": "code",
   "execution_count": 14,
   "metadata": {},
   "outputs": [
    {
     "data": {
      "text/plain": [
       "<Figure size 432x288 with 0 Axes>"
      ]
     },
     "metadata": {},
     "output_type": "display_data"
    },
    {
     "data": {
      "image/png": "[encoded data removed]",
      "text/plain": [
       "<Figure size 1440x1080 with 6 Axes>"
      ]
     },
     "metadata": {
      "needs_background": "light"
     },
     "output_type": "display_data"
    }
   ],
   "source": [
    "# Plot Grant Amount by Year for each state\n",
    "plt.figure();\n",
    "plt.subplots(3, 2, figsize=(20, 15));\n",
    "colors = sns.color_palette('bright', 6)\n",
    "\n",
    "for i, state in enumerate(states, start=1):\n",
    "    plt.subplot(3, 2, i, title=state)\n",
    "    sns.barplot(x='Year Approved',\n",
    "                y='Grant Amount',\n",
    "                data=new_england[new_england['State'] == state],\n",
    "                estimator=np.sum,\n",
    "                ci=0,\n",
    "                color=colors[i-1]);\n",
    "    plt.ylim([0, 8000000])\n",
    "    plt.xticks(rotation=45);\n",
    "    plt.tight_layout();\n",
    "\n",
    "plt.show()"
   ]
  },
  {
   "cell_type": "code",
   "execution_count": 15,
   "metadata": {},
   "outputs": [],
   "source": [
    "# # Plot grant amount by year for each state\n",
    "# # Amounts determined by 'Year Approved' column\n",
    "# grants_by_year = []\n",
    "# for state in states:\n",
    "#     tmp = new_england[new_england['State'] == state].groupby('Year Approved').sum()['Grant Amount']\n",
    "#     grants_by_year.append(tmp)\n",
    "\n",
    "# df_grants_by_year = pd.concat(grants_by_year, axis=1)\n",
    "# df_grants_by_year.columns = states\n",
    "# df_grants_by_year.fillna(value=0, inplace=True)\n",
    "\n",
    "# # df_grants_by_year\n",
    "# df_grants_by_year.plot(kind='bar', subplots=True, layout=(3, 2), title=states, sharey=True, figsize=(20, 15));"
   ]
  },
  {
   "cell_type": "markdown",
   "metadata": {},
   "source": [
    "In general, it appears that Massachusetts and Connecticut are the biggest beneficiares by dollar-amount of LWCF grants (they have larger populations than the other New England states - see the table below, data from Wikipedia). Also, based on the annual grant amounts by year, the 1970's seem to be the golden years of investing in conservation projects. Investments tapered off through the 1990's, but there was renewed interest in the 2000's.\n",
    "\n",
    "| State | Population |\n",
    "| --- | --- |\n",
    "| MA | 6,859,819 |\n",
    "| CT | 3,576,452 |\n",
    "| NH | 1,342,795 |\n",
    "| ME | 1,331,479 |\n",
    "| RI | 1,056,426 |\n",
    "| VT |   624,594 |\n"
   ]
  },
  {
   "cell_type": "markdown",
   "metadata": {},
   "source": [
    "## Number and Value of LWCF Grants by Type"
   ]
  },
  {
   "cell_type": "code",
   "execution_count": 16,
   "metadata": {},
   "outputs": [
    {
     "data": {
      "text/html": [
       "<div>\n",
       "<style scoped>\n",
       "    .dataframe tbody tr th:only-of-type {\n",
       "        vertical-align: middle;\n",
       "    }\n",
       "\n",
       "    .dataframe tbody tr th {\n",
       "        vertical-align: top;\n",
       "    }\n",
       "\n",
       "    .dataframe thead th {\n",
       "        text-align: right;\n",
       "    }\n",
       "</style>\n",
       "<table border=\"1\" class=\"dataframe\">\n",
       "  <thead>\n",
       "    <tr style=\"text-align: right;\">\n",
       "      <th>Type</th>\n",
       "      <th>Acquisition</th>\n",
       "      <th>Combination</th>\n",
       "      <th>Development</th>\n",
       "      <th>Planning</th>\n",
       "      <th>Redevelopment</th>\n",
       "    </tr>\n",
       "    <tr>\n",
       "      <th>State</th>\n",
       "      <th></th>\n",
       "      <th></th>\n",
       "      <th></th>\n",
       "      <th></th>\n",
       "      <th></th>\n",
       "    </tr>\n",
       "  </thead>\n",
       "  <tbody>\n",
       "    <tr>\n",
       "      <th>CT</th>\n",
       "      <td>199</td>\n",
       "      <td>9</td>\n",
       "      <td>114</td>\n",
       "      <td>9</td>\n",
       "      <td>43</td>\n",
       "    </tr>\n",
       "    <tr>\n",
       "      <th>MA</th>\n",
       "      <td>126</td>\n",
       "      <td>31</td>\n",
       "      <td>191</td>\n",
       "      <td>9</td>\n",
       "      <td>93</td>\n",
       "    </tr>\n",
       "    <tr>\n",
       "      <th>ME</th>\n",
       "      <td>152</td>\n",
       "      <td>77</td>\n",
       "      <td>476</td>\n",
       "      <td>29</td>\n",
       "      <td>97</td>\n",
       "    </tr>\n",
       "    <tr>\n",
       "      <th>NH</th>\n",
       "      <td>189</td>\n",
       "      <td>43</td>\n",
       "      <td>347</td>\n",
       "      <td>16</td>\n",
       "      <td>45</td>\n",
       "    </tr>\n",
       "    <tr>\n",
       "      <th>RI</th>\n",
       "      <td>77</td>\n",
       "      <td>14</td>\n",
       "      <td>204</td>\n",
       "      <td>15</td>\n",
       "      <td>26</td>\n",
       "    </tr>\n",
       "    <tr>\n",
       "      <th>VT</th>\n",
       "      <td>135</td>\n",
       "      <td>31</td>\n",
       "      <td>342</td>\n",
       "      <td>21</td>\n",
       "      <td>100</td>\n",
       "    </tr>\n",
       "  </tbody>\n",
       "</table>\n",
       "</div>"
      ],
      "text/plain": [
       "Type   Acquisition  Combination  Development  Planning  Redevelopment\n",
       "State                                                                \n",
       "CT             199            9          114         9             43\n",
       "MA             126           31          191         9             93\n",
       "ME             152           77          476        29             97\n",
       "NH             189           43          347        16             45\n",
       "RI              77           14          204        15             26\n",
       "VT             135           31          342        21            100"
      ]
     },
     "execution_count": 16,
     "metadata": {},
     "output_type": "execute_result"
    }
   ],
   "source": [
    "# Breakdown of the number of each grant by type (for each state)\n",
    "gt_num = new_england.groupby(['State', 'Type'])['Type'].count().unstack('Type').fillna(0)\n",
    "gt_num"
   ]
  },
  {
   "cell_type": "code",
   "execution_count": 54,
   "metadata": {},
   "outputs": [
    {
     "data": {
      "image/png": "[encoded data removed]",
      "text/plain": [
       "<Figure size 720x432 with 1 Axes>"
      ]
     },
     "metadata": {
      "needs_background": "light"
     },
     "output_type": "display_data"
    }
   ],
   "source": [
    "# Plot the number of grants by type\n",
    "ax = gt_num.plot(kind='bar', figsize=(10,6), title='Number of Grants by Type', stacked=True)\n",
    "\n",
    "# print(len(ax.patches))  # 30\n",
    "x_vals = [p.get_x() for p in ax.patches][:6]\n",
    "\n",
    "for i, bar_x in enumerate(x_vals):\n",
    "    ax.annotate(str(num_grants[i]), (bar_x + 0.15, num_grants[i] * 1.005))"
   ]
  },
  {
   "cell_type": "code",
   "execution_count": 18,
   "metadata": {},
   "outputs": [
    {
     "data": {
      "text/html": [
       "<div>\n",
       "<style scoped>\n",
       "    .dataframe tbody tr th:only-of-type {\n",
       "        vertical-align: middle;\n",
       "    }\n",
       "\n",
       "    .dataframe tbody tr th {\n",
       "        vertical-align: top;\n",
       "    }\n",
       "\n",
       "    .dataframe thead th {\n",
       "        text-align: right;\n",
       "    }\n",
       "</style>\n",
       "<table border=\"1\" class=\"dataframe\">\n",
       "  <thead>\n",
       "    <tr style=\"text-align: right;\">\n",
       "      <th>Type</th>\n",
       "      <th>Acquisition</th>\n",
       "      <th>Combination</th>\n",
       "      <th>Development</th>\n",
       "      <th>Planning</th>\n",
       "      <th>Redevelopment</th>\n",
       "    </tr>\n",
       "    <tr>\n",
       "      <th>State</th>\n",
       "      <th></th>\n",
       "      <th></th>\n",
       "      <th></th>\n",
       "      <th></th>\n",
       "      <th></th>\n",
       "    </tr>\n",
       "  </thead>\n",
       "  <tbody>\n",
       "    <tr>\n",
       "      <th>CT</th>\n",
       "      <td>32.279388</td>\n",
       "      <td>2.469008</td>\n",
       "      <td>21.795373</td>\n",
       "      <td>0.911663</td>\n",
       "      <td>5.739660</td>\n",
       "    </tr>\n",
       "    <tr>\n",
       "      <th>MA</th>\n",
       "      <td>29.470401</td>\n",
       "      <td>12.409701</td>\n",
       "      <td>36.422255</td>\n",
       "      <td>1.293133</td>\n",
       "      <td>17.996427</td>\n",
       "    </tr>\n",
       "    <tr>\n",
       "      <th>ME</th>\n",
       "      <td>10.707452</td>\n",
       "      <td>6.614504</td>\n",
       "      <td>18.218328</td>\n",
       "      <td>0.870131</td>\n",
       "      <td>4.446624</td>\n",
       "    </tr>\n",
       "    <tr>\n",
       "      <th>NH</th>\n",
       "      <td>10.118614</td>\n",
       "      <td>5.623054</td>\n",
       "      <td>17.101768</td>\n",
       "      <td>1.132974</td>\n",
       "      <td>2.532003</td>\n",
       "    </tr>\n",
       "    <tr>\n",
       "      <th>RI</th>\n",
       "      <td>6.549517</td>\n",
       "      <td>2.009323</td>\n",
       "      <td>24.080018</td>\n",
       "      <td>0.957441</td>\n",
       "      <td>6.229981</td>\n",
       "    </tr>\n",
       "    <tr>\n",
       "      <th>VT</th>\n",
       "      <td>9.617666</td>\n",
       "      <td>2.308353</td>\n",
       "      <td>16.240549</td>\n",
       "      <td>0.805994</td>\n",
       "      <td>4.342858</td>\n",
       "    </tr>\n",
       "  </tbody>\n",
       "</table>\n",
       "</div>"
      ],
      "text/plain": [
       "Type   Acquisition  Combination  Development  Planning  Redevelopment\n",
       "State                                                                \n",
       "CT       32.279388     2.469008    21.795373  0.911663       5.739660\n",
       "MA       29.470401    12.409701    36.422255  1.293133      17.996427\n",
       "ME       10.707452     6.614504    18.218328  0.870131       4.446624\n",
       "NH       10.118614     5.623054    17.101768  1.132974       2.532003\n",
       "RI        6.549517     2.009323    24.080018  0.957441       6.229981\n",
       "VT        9.617666     2.308353    16.240549  0.805994       4.342858"
      ]
     },
     "execution_count": 18,
     "metadata": {},
     "output_type": "execute_result"
    }
   ],
   "source": [
    "# Breakdown of the amount of each grant by type (for each state)\n",
    "gt_amt = new_england.groupby(['State', 'Type'])['Grant Amount'].sum().unstack('Type') / 1000000\n",
    "gt_amt"
   ]
  },
  {
   "cell_type": "code",
   "execution_count": 67,
   "metadata": {},
   "outputs": [
    {
     "data": {
      "image/png": "[encoded data removed]",
      "text/plain": [
       "<Figure size 720x432 with 1 Axes>"
      ]
     },
     "metadata": {
      "needs_background": "light"
     },
     "output_type": "display_data"
    }
   ],
   "source": [
    "# Plot the dollar amount of grants by type\n",
    "ax_amt = gt_amt.plot(kind='bar', figsize=(10,6), title='Value of State and Local Grants by Type', stacked=True);\n",
    "plt.ylabel('US$ Millions');\n",
    "\n",
    "x_vals_amt = [p.get_x() for p in ax_amt.patches][:6]\n",
    "\n",
    "for i, bar_x in enumerate(x_vals_amt):\n",
    "    ann = round(total_grants[i], 1)\n",
    "    ax_amt.annotate('${}'.format(ann), (bar_x + 0.15, ann + 0.3))\n",
    "\n",
    "plt.savefig('./GrantMap/GrantValByType.jpg')"
   ]
  },
  {
   "cell_type": "markdown",
   "metadata": {},
   "source": [
    "The two charts above show the breakdown by number then by dollar for the different types of grants. The states appear to use grants mainly for Development and Acquisitions."
   ]
  },
  {
   "cell_type": "markdown",
   "metadata": {},
   "source": [
    "## Number and Value of Grants by County"
   ]
  },
  {
   "cell_type": "code",
   "execution_count": 20,
   "metadata": {},
   "outputs": [
    {
     "data": {
      "text/html": [
       "<div>\n",
       "<style scoped>\n",
       "    .dataframe tbody tr th:only-of-type {\n",
       "        vertical-align: middle;\n",
       "    }\n",
       "\n",
       "    .dataframe tbody tr th {\n",
       "        vertical-align: top;\n",
       "    }\n",
       "\n",
       "    .dataframe thead th {\n",
       "        text-align: right;\n",
       "    }\n",
       "</style>\n",
       "<table border=\"1\" class=\"dataframe\">\n",
       "  <thead>\n",
       "    <tr style=\"text-align: right;\">\n",
       "      <th></th>\n",
       "      <th>State</th>\n",
       "      <th>County</th>\n",
       "      <th>count</th>\n",
       "      <th>sum</th>\n",
       "    </tr>\n",
       "  </thead>\n",
       "  <tbody>\n",
       "    <tr>\n",
       "      <th>0</th>\n",
       "      <td>CT</td>\n",
       "      <td>FAIRFIELD</td>\n",
       "      <td>65</td>\n",
       "      <td>7745008.26</td>\n",
       "    </tr>\n",
       "    <tr>\n",
       "      <th>1</th>\n",
       "      <td>CT</td>\n",
       "      <td>HARTFORD</td>\n",
       "      <td>69</td>\n",
       "      <td>11234580.53</td>\n",
       "    </tr>\n",
       "    <tr>\n",
       "      <th>2</th>\n",
       "      <td>CT</td>\n",
       "      <td>LITCHFIELD</td>\n",
       "      <td>23</td>\n",
       "      <td>2082009.35</td>\n",
       "    </tr>\n",
       "    <tr>\n",
       "      <th>3</th>\n",
       "      <td>CT</td>\n",
       "      <td>MIDDLESEX</td>\n",
       "      <td>37</td>\n",
       "      <td>4815886.84</td>\n",
       "    </tr>\n",
       "    <tr>\n",
       "      <th>4</th>\n",
       "      <td>CT</td>\n",
       "      <td>MULTI-COUNTY</td>\n",
       "      <td>10</td>\n",
       "      <td>5962815.13</td>\n",
       "    </tr>\n",
       "  </tbody>\n",
       "</table>\n",
       "</div>"
      ],
      "text/plain": [
       "  State        County  count          sum\n",
       "0    CT     FAIRFIELD     65   7745008.26\n",
       "1    CT      HARTFORD     69  11234580.53\n",
       "2    CT    LITCHFIELD     23   2082009.35\n",
       "3    CT     MIDDLESEX     37   4815886.84\n",
       "4    CT  MULTI-COUNTY     10   5962815.13"
      ]
     },
     "execution_count": 20,
     "metadata": {},
     "output_type": "execute_result"
    }
   ],
   "source": [
    "county = new_england.groupby(['State', 'County'])['Grant Amount'].agg(['count', 'sum'])\n",
    "\n",
    "# Reset multi-index to flatten columns\n",
    "county = county.reset_index()\n",
    "county.head()"
   ]
  },
  {
   "cell_type": "code",
   "execution_count": 21,
   "metadata": {},
   "outputs": [
    {
     "data": {
      "text/plain": [
       "262500.0"
      ]
     },
     "execution_count": 21,
     "metadata": {},
     "output_type": "execute_result"
    }
   ],
   "source": [
    "np.min(county['sum'])"
   ]
  },
  {
   "cell_type": "code",
   "execution_count": 22,
   "metadata": {},
   "outputs": [
    {
     "data": {
      "text/plain": [
       "<Figure size 432x288 with 0 Axes>"
      ]
     },
     "metadata": {},
     "output_type": "display_data"
    },
    {
     "data": {
      "image/png": "[encoded data removed]",
      "text/plain": [
       "<Figure size 1440x1080 with 6 Axes>"
      ]
     },
     "metadata": {
      "needs_background": "light"
     },
     "output_type": "display_data"
    }
   ],
   "source": [
    "# Plot Grant totals by County for each state\n",
    "plt.figure();\n",
    "plt.subplots(3, 2, figsize=(20, 15));\n",
    "\n",
    "for i, state in enumerate(states, start=1):\n",
    "    plt.subplot(3, 2, i, title=state)\n",
    "    sns.barplot(x='County',\n",
    "                y='sum',\n",
    "                data=county[county['State'] == state],\n",
    "                ci=0);\n",
    "    plt.ylim([100000, 24000000])\n",
    "    plt.xticks(rotation=45);\n",
    "    plt.tight_layout();\n",
    "\n",
    "plt.show();"
   ]
  },
  {
   "cell_type": "code",
   "execution_count": 23,
   "metadata": {},
   "outputs": [
    {
     "data": {
      "text/html": [
       "<div>\n",
       "<style scoped>\n",
       "    .dataframe tbody tr th:only-of-type {\n",
       "        vertical-align: middle;\n",
       "    }\n",
       "\n",
       "    .dataframe tbody tr th {\n",
       "        vertical-align: top;\n",
       "    }\n",
       "\n",
       "    .dataframe thead th {\n",
       "        text-align: right;\n",
       "    }\n",
       "</style>\n",
       "<table border=\"1\" class=\"dataframe\">\n",
       "  <thead>\n",
       "    <tr style=\"text-align: right;\">\n",
       "      <th></th>\n",
       "      <th>State</th>\n",
       "      <th>County</th>\n",
       "      <th>count</th>\n",
       "      <th>sum</th>\n",
       "      <th>county_upd</th>\n",
       "      <th>key</th>\n",
       "    </tr>\n",
       "  </thead>\n",
       "  <tbody>\n",
       "    <tr>\n",
       "      <th>0</th>\n",
       "      <td>CT</td>\n",
       "      <td>FAIRFIELD</td>\n",
       "      <td>65</td>\n",
       "      <td>7745008.26</td>\n",
       "      <td>Fairfield County</td>\n",
       "      <td>Fairfield County CT</td>\n",
       "    </tr>\n",
       "    <tr>\n",
       "      <th>1</th>\n",
       "      <td>CT</td>\n",
       "      <td>HARTFORD</td>\n",
       "      <td>69</td>\n",
       "      <td>11234580.53</td>\n",
       "      <td>Hartford County</td>\n",
       "      <td>Hartford County CT</td>\n",
       "    </tr>\n",
       "    <tr>\n",
       "      <th>2</th>\n",
       "      <td>CT</td>\n",
       "      <td>LITCHFIELD</td>\n",
       "      <td>23</td>\n",
       "      <td>2082009.35</td>\n",
       "      <td>Litchfield County</td>\n",
       "      <td>Litchfield County CT</td>\n",
       "    </tr>\n",
       "    <tr>\n",
       "      <th>3</th>\n",
       "      <td>CT</td>\n",
       "      <td>MIDDLESEX</td>\n",
       "      <td>37</td>\n",
       "      <td>4815886.84</td>\n",
       "      <td>Middlesex County</td>\n",
       "      <td>Middlesex County CT</td>\n",
       "    </tr>\n",
       "    <tr>\n",
       "      <th>5</th>\n",
       "      <td>CT</td>\n",
       "      <td>NEW HAVEN</td>\n",
       "      <td>58</td>\n",
       "      <td>16042978.55</td>\n",
       "      <td>New Haven County</td>\n",
       "      <td>New Haven County CT</td>\n",
       "    </tr>\n",
       "    <tr>\n",
       "      <th>6</th>\n",
       "      <td>CT</td>\n",
       "      <td>NEW LONDON</td>\n",
       "      <td>53</td>\n",
       "      <td>10009612.67</td>\n",
       "      <td>New London County</td>\n",
       "      <td>New London County CT</td>\n",
       "    </tr>\n",
       "    <tr>\n",
       "      <th>8</th>\n",
       "      <td>CT</td>\n",
       "      <td>TOLLAND</td>\n",
       "      <td>27</td>\n",
       "      <td>1640086.59</td>\n",
       "      <td>Tolland County</td>\n",
       "      <td>Tolland County CT</td>\n",
       "    </tr>\n",
       "    <tr>\n",
       "      <th>9</th>\n",
       "      <td>CT</td>\n",
       "      <td>WINDHAM</td>\n",
       "      <td>23</td>\n",
       "      <td>2750451.98</td>\n",
       "      <td>Windham County</td>\n",
       "      <td>Windham County CT</td>\n",
       "    </tr>\n",
       "    <tr>\n",
       "      <th>10</th>\n",
       "      <td>MA</td>\n",
       "      <td>BARNSTABLE</td>\n",
       "      <td>19</td>\n",
       "      <td>6626674.09</td>\n",
       "      <td>Barnstable County</td>\n",
       "      <td>Barnstable County MA</td>\n",
       "    </tr>\n",
       "    <tr>\n",
       "      <th>11</th>\n",
       "      <td>MA</td>\n",
       "      <td>BERKSHIRE</td>\n",
       "      <td>17</td>\n",
       "      <td>1578548.66</td>\n",
       "      <td>Berkshire County</td>\n",
       "      <td>Berkshire County MA</td>\n",
       "    </tr>\n",
       "  </tbody>\n",
       "</table>\n",
       "</div>"
      ],
      "text/plain": [
       "   State      County  count          sum         county_upd  \\\n",
       "0     CT   FAIRFIELD     65   7745008.26   Fairfield County   \n",
       "1     CT    HARTFORD     69  11234580.53    Hartford County   \n",
       "2     CT  LITCHFIELD     23   2082009.35  Litchfield County   \n",
       "3     CT   MIDDLESEX     37   4815886.84   Middlesex County   \n",
       "5     CT   NEW HAVEN     58  16042978.55   New Haven County   \n",
       "6     CT  NEW LONDON     53  10009612.67  New London County   \n",
       "8     CT     TOLLAND     27   1640086.59     Tolland County   \n",
       "9     CT     WINDHAM     23   2750451.98     Windham County   \n",
       "10    MA  BARNSTABLE     19   6626674.09  Barnstable County   \n",
       "11    MA   BERKSHIRE     17   1578548.66   Berkshire County   \n",
       "\n",
       "                     key  \n",
       "0    Fairfield County CT  \n",
       "1     Hartford County CT  \n",
       "2   Litchfield County CT  \n",
       "3    Middlesex County CT  \n",
       "5    New Haven County CT  \n",
       "6   New London County CT  \n",
       "8      Tolland County CT  \n",
       "9      Windham County CT  \n",
       "10  Barnstable County MA  \n",
       "11   Berkshire County MA  "
      ]
     },
     "execution_count": 23,
     "metadata": {},
     "output_type": "execute_result"
    }
   ],
   "source": [
    "# Update county column to match formatting in names file\n",
    "county['county_upd'] = county['County'].map(lambda s: s.title() + ' County')\n",
    "\n",
    "# Drop multi-county, planning, and no county (Maine-only file) rows\n",
    "county = county[~county['County'].isin(['MULTI-COUNTY', 'PLANNING', 'NO COUNTY'])]\n",
    "\n",
    "# Create a unique key column for the join\n",
    "county['key'] = county['county_upd'] + ' ' + county['State']\n",
    "\n",
    "county.head(10)"
   ]
  },
  {
   "cell_type": "code",
   "execution_count": 24,
   "metadata": {},
   "outputs": [
    {
     "data": {
      "text/html": [
       "<div>\n",
       "<style scoped>\n",
       "    .dataframe tbody tr th:only-of-type {\n",
       "        vertical-align: middle;\n",
       "    }\n",
       "\n",
       "    .dataframe tbody tr th {\n",
       "        vertical-align: top;\n",
       "    }\n",
       "\n",
       "    .dataframe thead th {\n",
       "        text-align: right;\n",
       "    }\n",
       "</style>\n",
       "<table border=\"1\" class=\"dataframe\">\n",
       "  <thead>\n",
       "    <tr style=\"text-align: right;\">\n",
       "      <th></th>\n",
       "      <th>id</th>\n",
       "      <th>state</th>\n",
       "      <th>county</th>\n",
       "    </tr>\n",
       "  </thead>\n",
       "  <tbody>\n",
       "    <tr>\n",
       "      <th>308</th>\n",
       "      <td>09001</td>\n",
       "      <td>Connecticut</td>\n",
       "      <td>Fairfield County</td>\n",
       "    </tr>\n",
       "    <tr>\n",
       "      <th>309</th>\n",
       "      <td>09003</td>\n",
       "      <td>Connecticut</td>\n",
       "      <td>Hartford County</td>\n",
       "    </tr>\n",
       "    <tr>\n",
       "      <th>310</th>\n",
       "      <td>09005</td>\n",
       "      <td>Connecticut</td>\n",
       "      <td>Litchfield County</td>\n",
       "    </tr>\n",
       "    <tr>\n",
       "      <th>311</th>\n",
       "      <td>09007</td>\n",
       "      <td>Connecticut</td>\n",
       "      <td>Middlesex County</td>\n",
       "    </tr>\n",
       "    <tr>\n",
       "      <th>312</th>\n",
       "      <td>09009</td>\n",
       "      <td>Connecticut</td>\n",
       "      <td>New Haven County</td>\n",
       "    </tr>\n",
       "    <tr>\n",
       "      <th>313</th>\n",
       "      <td>09011</td>\n",
       "      <td>Connecticut</td>\n",
       "      <td>New London County</td>\n",
       "    </tr>\n",
       "    <tr>\n",
       "      <th>314</th>\n",
       "      <td>09013</td>\n",
       "      <td>Connecticut</td>\n",
       "      <td>Tolland County</td>\n",
       "    </tr>\n",
       "    <tr>\n",
       "      <th>315</th>\n",
       "      <td>09015</td>\n",
       "      <td>Connecticut</td>\n",
       "      <td>Windham County</td>\n",
       "    </tr>\n",
       "  </tbody>\n",
       "</table>\n",
       "</div>"
      ],
      "text/plain": [
       "        id        state             county\n",
       "308  09001  Connecticut   Fairfield County\n",
       "309  09003  Connecticut    Hartford County\n",
       "310  09005  Connecticut  Litchfield County\n",
       "311  09007  Connecticut   Middlesex County\n",
       "312  09009  Connecticut   New Haven County\n",
       "313  09011  Connecticut  New London County\n",
       "314  09013  Connecticut     Tolland County\n",
       "315  09015  Connecticut     Windham County"
      ]
     },
     "execution_count": 24,
     "metadata": {},
     "output_type": "execute_result"
    }
   ],
   "source": [
    "# Import county id data\n",
    "county_ids = pd.read_csv('./Data/county_names.csv', sep=',', dtype=str)\n",
    "county_ids[county_ids['state'] == 'Connecticut']"
   ]
  },
  {
   "cell_type": "code",
   "execution_count": 25,
   "metadata": {},
   "outputs": [],
   "source": [
    "# Create state name and abbrev dictionary\n",
    "st_name = county_ids['state'].unique()\n",
    "st_abbrev = ['AL', 'AK', 'AZ', 'AR', 'CA', 'CO', 'CT', 'DE', 'DC', 'FL', 'GA',\n",
    "             'HI', 'ID', 'IL', 'IN', 'IA', 'KS', 'KY', 'LA', 'ME', 'MD', 'MA',\n",
    "             'MI', 'MN', 'MS', 'MO', 'MT', 'NE', 'NV', 'NH', 'NJ', 'NM', 'NY',\n",
    "             'NC', 'ND', 'OH', 'OK', 'OR', 'PA', 'RI', 'SC', 'SD', 'TN', 'TX',\n",
    "             'UT', 'VT', 'VA', 'WA', 'WV', 'WI', 'WY', 'PR']\n",
    "\n",
    "state_dict = dict(zip(st_name, st_abbrev))"
   ]
  },
  {
   "cell_type": "code",
   "execution_count": 26,
   "metadata": {},
   "outputs": [
    {
     "data": {
      "text/html": [
       "<div>\n",
       "<style scoped>\n",
       "    .dataframe tbody tr th:only-of-type {\n",
       "        vertical-align: middle;\n",
       "    }\n",
       "\n",
       "    .dataframe tbody tr th {\n",
       "        vertical-align: top;\n",
       "    }\n",
       "\n",
       "    .dataframe thead th {\n",
       "        text-align: right;\n",
       "    }\n",
       "</style>\n",
       "<table border=\"1\" class=\"dataframe\">\n",
       "  <thead>\n",
       "    <tr style=\"text-align: right;\">\n",
       "      <th></th>\n",
       "      <th>id</th>\n",
       "      <th>state</th>\n",
       "      <th>county</th>\n",
       "      <th>state_abbv</th>\n",
       "      <th>keyID</th>\n",
       "    </tr>\n",
       "  </thead>\n",
       "  <tbody>\n",
       "    <tr>\n",
       "      <th>308</th>\n",
       "      <td>09001</td>\n",
       "      <td>Connecticut</td>\n",
       "      <td>Fairfield County</td>\n",
       "      <td>CT</td>\n",
       "      <td>Fairfield County CT</td>\n",
       "    </tr>\n",
       "    <tr>\n",
       "      <th>309</th>\n",
       "      <td>09003</td>\n",
       "      <td>Connecticut</td>\n",
       "      <td>Hartford County</td>\n",
       "      <td>CT</td>\n",
       "      <td>Hartford County CT</td>\n",
       "    </tr>\n",
       "    <tr>\n",
       "      <th>310</th>\n",
       "      <td>09005</td>\n",
       "      <td>Connecticut</td>\n",
       "      <td>Litchfield County</td>\n",
       "      <td>CT</td>\n",
       "      <td>Litchfield County CT</td>\n",
       "    </tr>\n",
       "    <tr>\n",
       "      <th>311</th>\n",
       "      <td>09007</td>\n",
       "      <td>Connecticut</td>\n",
       "      <td>Middlesex County</td>\n",
       "      <td>CT</td>\n",
       "      <td>Middlesex County CT</td>\n",
       "    </tr>\n",
       "    <tr>\n",
       "      <th>312</th>\n",
       "      <td>09009</td>\n",
       "      <td>Connecticut</td>\n",
       "      <td>New Haven County</td>\n",
       "      <td>CT</td>\n",
       "      <td>New Haven County CT</td>\n",
       "    </tr>\n",
       "    <tr>\n",
       "      <th>313</th>\n",
       "      <td>09011</td>\n",
       "      <td>Connecticut</td>\n",
       "      <td>New London County</td>\n",
       "      <td>CT</td>\n",
       "      <td>New London County CT</td>\n",
       "    </tr>\n",
       "    <tr>\n",
       "      <th>314</th>\n",
       "      <td>09013</td>\n",
       "      <td>Connecticut</td>\n",
       "      <td>Tolland County</td>\n",
       "      <td>CT</td>\n",
       "      <td>Tolland County CT</td>\n",
       "    </tr>\n",
       "    <tr>\n",
       "      <th>315</th>\n",
       "      <td>09015</td>\n",
       "      <td>Connecticut</td>\n",
       "      <td>Windham County</td>\n",
       "      <td>CT</td>\n",
       "      <td>Windham County CT</td>\n",
       "    </tr>\n",
       "  </tbody>\n",
       "</table>\n",
       "</div>"
      ],
      "text/plain": [
       "        id        state             county state_abbv                 keyID\n",
       "308  09001  Connecticut   Fairfield County         CT   Fairfield County CT\n",
       "309  09003  Connecticut    Hartford County         CT    Hartford County CT\n",
       "310  09005  Connecticut  Litchfield County         CT  Litchfield County CT\n",
       "311  09007  Connecticut   Middlesex County         CT   Middlesex County CT\n",
       "312  09009  Connecticut   New Haven County         CT   New Haven County CT\n",
       "313  09011  Connecticut  New London County         CT  New London County CT\n",
       "314  09013  Connecticut     Tolland County         CT     Tolland County CT\n",
       "315  09015  Connecticut     Windham County         CT     Windham County CT"
      ]
     },
     "execution_count": 26,
     "metadata": {},
     "output_type": "execute_result"
    }
   ],
   "source": [
    "# Create key column in county id DataFrame\n",
    "county_ids['state_abbv'] = county_ids['state'].map(lambda s: state_dict[s])\n",
    "\n",
    "county_ids['keyID'] = county_ids['county'] + ' ' + county_ids['state_abbv']\n",
    "\n",
    "county_ids[county_ids['state_abbv'] == 'CT']"
   ]
  },
  {
   "cell_type": "code",
   "execution_count": 27,
   "metadata": {},
   "outputs": [
    {
     "data": {
      "text/html": [
       "<div>\n",
       "<style scoped>\n",
       "    .dataframe tbody tr th:only-of-type {\n",
       "        vertical-align: middle;\n",
       "    }\n",
       "\n",
       "    .dataframe tbody tr th {\n",
       "        vertical-align: top;\n",
       "    }\n",
       "\n",
       "    .dataframe thead th {\n",
       "        text-align: right;\n",
       "    }\n",
       "</style>\n",
       "<table border=\"1\" class=\"dataframe\">\n",
       "  <thead>\n",
       "    <tr style=\"text-align: right;\">\n",
       "      <th></th>\n",
       "      <th>id</th>\n",
       "      <th>keyID</th>\n",
       "    </tr>\n",
       "  </thead>\n",
       "  <tbody>\n",
       "    <tr>\n",
       "      <th>0</th>\n",
       "      <td>01001</td>\n",
       "      <td>Autauga County AL</td>\n",
       "    </tr>\n",
       "    <tr>\n",
       "      <th>1</th>\n",
       "      <td>01003</td>\n",
       "      <td>Baldwin County AL</td>\n",
       "    </tr>\n",
       "    <tr>\n",
       "      <th>2</th>\n",
       "      <td>01005</td>\n",
       "      <td>Barbour County AL</td>\n",
       "    </tr>\n",
       "    <tr>\n",
       "      <th>3</th>\n",
       "      <td>01007</td>\n",
       "      <td>Bibb County AL</td>\n",
       "    </tr>\n",
       "    <tr>\n",
       "      <th>4</th>\n",
       "      <td>01009</td>\n",
       "      <td>Blount County AL</td>\n",
       "    </tr>\n",
       "  </tbody>\n",
       "</table>\n",
       "</div>"
      ],
      "text/plain": [
       "      id              keyID\n",
       "0  01001  Autauga County AL\n",
       "1  01003  Baldwin County AL\n",
       "2  01005  Barbour County AL\n",
       "3  01007     Bibb County AL\n",
       "4  01009   Blount County AL"
      ]
     },
     "execution_count": 27,
     "metadata": {},
     "output_type": "execute_result"
    }
   ],
   "source": [
    "county_id_only = county_ids[['id', 'keyID']]\n",
    "county_id_only.head()"
   ]
  },
  {
   "cell_type": "code",
   "execution_count": 28,
   "metadata": {},
   "outputs": [],
   "source": [
    "# Merge grants by county DataFrame with ids DataFrame\n",
    "full_county = pd.merge(county, county_id_only, how='left', left_on='key', right_on='keyID')"
   ]
  },
  {
   "cell_type": "code",
   "execution_count": 29,
   "metadata": {},
   "outputs": [
    {
     "data": {
      "text/html": [
       "<div>\n",
       "<style scoped>\n",
       "    .dataframe tbody tr th:only-of-type {\n",
       "        vertical-align: middle;\n",
       "    }\n",
       "\n",
       "    .dataframe tbody tr th {\n",
       "        vertical-align: top;\n",
       "    }\n",
       "\n",
       "    .dataframe thead th {\n",
       "        text-align: right;\n",
       "    }\n",
       "</style>\n",
       "<table border=\"1\" class=\"dataframe\">\n",
       "  <thead>\n",
       "    <tr style=\"text-align: right;\">\n",
       "      <th></th>\n",
       "      <th>State</th>\n",
       "      <th>County</th>\n",
       "      <th>count</th>\n",
       "      <th>sum</th>\n",
       "      <th>county_upd</th>\n",
       "      <th>key</th>\n",
       "      <th>id</th>\n",
       "      <th>keyID</th>\n",
       "    </tr>\n",
       "  </thead>\n",
       "  <tbody>\n",
       "    <tr>\n",
       "      <th>38</th>\n",
       "      <td>NH</td>\n",
       "      <td>BELKNAP</td>\n",
       "      <td>57</td>\n",
       "      <td>3078096.71</td>\n",
       "      <td>Belknap County</td>\n",
       "      <td>Belknap County NH</td>\n",
       "      <td>33001</td>\n",
       "      <td>Belknap County NH</td>\n",
       "    </tr>\n",
       "    <tr>\n",
       "      <th>39</th>\n",
       "      <td>NH</td>\n",
       "      <td>CARROLL</td>\n",
       "      <td>33</td>\n",
       "      <td>1702218.63</td>\n",
       "      <td>Carroll County</td>\n",
       "      <td>Carroll County NH</td>\n",
       "      <td>33003</td>\n",
       "      <td>Carroll County NH</td>\n",
       "    </tr>\n",
       "    <tr>\n",
       "      <th>40</th>\n",
       "      <td>NH</td>\n",
       "      <td>CHESHIRE</td>\n",
       "      <td>53</td>\n",
       "      <td>2532103.37</td>\n",
       "      <td>Cheshire County</td>\n",
       "      <td>Cheshire County NH</td>\n",
       "      <td>33005</td>\n",
       "      <td>Cheshire County NH</td>\n",
       "    </tr>\n",
       "    <tr>\n",
       "      <th>41</th>\n",
       "      <td>NH</td>\n",
       "      <td>COOS</td>\n",
       "      <td>29</td>\n",
       "      <td>2248184.77</td>\n",
       "      <td>Coos County</td>\n",
       "      <td>Coos County NH</td>\n",
       "      <td>33007</td>\n",
       "      <td>Coos County NH</td>\n",
       "    </tr>\n",
       "    <tr>\n",
       "      <th>42</th>\n",
       "      <td>NH</td>\n",
       "      <td>GRAFTON</td>\n",
       "      <td>57</td>\n",
       "      <td>3225109.04</td>\n",
       "      <td>Grafton County</td>\n",
       "      <td>Grafton County NH</td>\n",
       "      <td>33009</td>\n",
       "      <td>Grafton County NH</td>\n",
       "    </tr>\n",
       "    <tr>\n",
       "      <th>43</th>\n",
       "      <td>NH</td>\n",
       "      <td>HILLSBOROUGH</td>\n",
       "      <td>115</td>\n",
       "      <td>6656902.45</td>\n",
       "      <td>Hillsborough County</td>\n",
       "      <td>Hillsborough County NH</td>\n",
       "      <td>33011</td>\n",
       "      <td>Hillsborough County NH</td>\n",
       "    </tr>\n",
       "    <tr>\n",
       "      <th>44</th>\n",
       "      <td>NH</td>\n",
       "      <td>MERRIMACK</td>\n",
       "      <td>78</td>\n",
       "      <td>3822227.41</td>\n",
       "      <td>Merrimack County</td>\n",
       "      <td>Merrimack County NH</td>\n",
       "      <td>33013</td>\n",
       "      <td>Merrimack County NH</td>\n",
       "    </tr>\n",
       "    <tr>\n",
       "      <th>45</th>\n",
       "      <td>NH</td>\n",
       "      <td>ROCKINGHAM</td>\n",
       "      <td>117</td>\n",
       "      <td>6217100.19</td>\n",
       "      <td>Rockingham County</td>\n",
       "      <td>Rockingham County NH</td>\n",
       "      <td>33015</td>\n",
       "      <td>Rockingham County NH</td>\n",
       "    </tr>\n",
       "    <tr>\n",
       "      <th>46</th>\n",
       "      <td>NH</td>\n",
       "      <td>STRAFFORD</td>\n",
       "      <td>30</td>\n",
       "      <td>1393559.19</td>\n",
       "      <td>Strafford County</td>\n",
       "      <td>Strafford County NH</td>\n",
       "      <td>33017</td>\n",
       "      <td>Strafford County NH</td>\n",
       "    </tr>\n",
       "    <tr>\n",
       "      <th>47</th>\n",
       "      <td>NH</td>\n",
       "      <td>SULLIVAN</td>\n",
       "      <td>37</td>\n",
       "      <td>1216055.10</td>\n",
       "      <td>Sullivan County</td>\n",
       "      <td>Sullivan County NH</td>\n",
       "      <td>33019</td>\n",
       "      <td>Sullivan County NH</td>\n",
       "    </tr>\n",
       "  </tbody>\n",
       "</table>\n",
       "</div>"
      ],
      "text/plain": [
       "   State        County  count         sum           county_upd  \\\n",
       "38    NH       BELKNAP     57  3078096.71       Belknap County   \n",
       "39    NH       CARROLL     33  1702218.63       Carroll County   \n",
       "40    NH      CHESHIRE     53  2532103.37      Cheshire County   \n",
       "41    NH          COOS     29  2248184.77          Coos County   \n",
       "42    NH       GRAFTON     57  3225109.04       Grafton County   \n",
       "43    NH  HILLSBOROUGH    115  6656902.45  Hillsborough County   \n",
       "44    NH     MERRIMACK     78  3822227.41     Merrimack County   \n",
       "45    NH    ROCKINGHAM    117  6217100.19    Rockingham County   \n",
       "46    NH     STRAFFORD     30  1393559.19     Strafford County   \n",
       "47    NH      SULLIVAN     37  1216055.10      Sullivan County   \n",
       "\n",
       "                       key     id                   keyID  \n",
       "38       Belknap County NH  33001       Belknap County NH  \n",
       "39       Carroll County NH  33003       Carroll County NH  \n",
       "40      Cheshire County NH  33005      Cheshire County NH  \n",
       "41          Coos County NH  33007          Coos County NH  \n",
       "42       Grafton County NH  33009       Grafton County NH  \n",
       "43  Hillsborough County NH  33011  Hillsborough County NH  \n",
       "44     Merrimack County NH  33013     Merrimack County NH  \n",
       "45    Rockingham County NH  33015    Rockingham County NH  \n",
       "46     Strafford County NH  33017     Strafford County NH  \n",
       "47      Sullivan County NH  33019      Sullivan County NH  "
      ]
     },
     "execution_count": 29,
     "metadata": {},
     "output_type": "execute_result"
    }
   ],
   "source": [
    "full_county[full_county['State'] == 'NH']"
   ]
  },
  {
   "cell_type": "code",
   "execution_count": 30,
   "metadata": {},
   "outputs": [
    {
     "data": {
      "text/html": [
       "<div>\n",
       "<style scoped>\n",
       "    .dataframe tbody tr th:only-of-type {\n",
       "        vertical-align: middle;\n",
       "    }\n",
       "\n",
       "    .dataframe tbody tr th {\n",
       "        vertical-align: top;\n",
       "    }\n",
       "\n",
       "    .dataframe thead th {\n",
       "        text-align: right;\n",
       "    }\n",
       "</style>\n",
       "<table border=\"1\" class=\"dataframe\">\n",
       "  <thead>\n",
       "    <tr style=\"text-align: right;\">\n",
       "      <th></th>\n",
       "      <th>state</th>\n",
       "      <th>num_grants</th>\n",
       "      <th>grant_value</th>\n",
       "      <th>county</th>\n",
       "    </tr>\n",
       "    <tr>\n",
       "      <th>id</th>\n",
       "      <th></th>\n",
       "      <th></th>\n",
       "      <th></th>\n",
       "      <th></th>\n",
       "    </tr>\n",
       "  </thead>\n",
       "  <tbody>\n",
       "    <tr>\n",
       "      <th>09001</th>\n",
       "      <td>CT</td>\n",
       "      <td>65</td>\n",
       "      <td>7745008</td>\n",
       "      <td>Fairfield County</td>\n",
       "    </tr>\n",
       "    <tr>\n",
       "      <th>09003</th>\n",
       "      <td>CT</td>\n",
       "      <td>69</td>\n",
       "      <td>11234581</td>\n",
       "      <td>Hartford County</td>\n",
       "    </tr>\n",
       "    <tr>\n",
       "      <th>09005</th>\n",
       "      <td>CT</td>\n",
       "      <td>23</td>\n",
       "      <td>2082009</td>\n",
       "      <td>Litchfield County</td>\n",
       "    </tr>\n",
       "    <tr>\n",
       "      <th>09007</th>\n",
       "      <td>CT</td>\n",
       "      <td>37</td>\n",
       "      <td>4815887</td>\n",
       "      <td>Middlesex County</td>\n",
       "    </tr>\n",
       "    <tr>\n",
       "      <th>09009</th>\n",
       "      <td>CT</td>\n",
       "      <td>58</td>\n",
       "      <td>16042979</td>\n",
       "      <td>New Haven County</td>\n",
       "    </tr>\n",
       "  </tbody>\n",
       "</table>\n",
       "</div>"
      ],
      "text/plain": [
       "      state  num_grants  grant_value             county\n",
       "id                                                     \n",
       "09001    CT          65      7745008   Fairfield County\n",
       "09003    CT          69     11234581    Hartford County\n",
       "09005    CT          23      2082009  Litchfield County\n",
       "09007    CT          37      4815887   Middlesex County\n",
       "09009    CT          58     16042979   New Haven County"
      ]
     },
     "execution_count": 30,
     "metadata": {},
     "output_type": "execute_result"
    }
   ],
   "source": [
    "# Clean DF to export: drop and rename columns, round values, and set index to id\n",
    "full_county.drop(['County', 'keyID', 'key'], axis=1, inplace=True)\n",
    "\n",
    "full_county.columns = ['state', 'num_grants', 'grant_value', 'county', 'id']\n",
    "\n",
    "full_county['grant_value'] = full_county['grant_value'].map(round)\n",
    "\n",
    "full_county.set_index('id', inplace=True)\n",
    "\n",
    "full_county.head()"
   ]
  },
  {
   "cell_type": "code",
   "execution_count": 31,
   "metadata": {},
   "outputs": [],
   "source": [
    "# Export data to JSON to use to create interactive map (Uncomment line below to create file again)\n",
    "# full_county.to_json('./GrantMap/new_england_grants_by_county.json', orient='index')"
   ]
  }
 ],
 "metadata": {
  "kernelspec": {
   "display_name": "Python 3",
   "language": "python",
   "name": "python3"
  },
  "language_info": {
   "codemirror_mode": {
    "name": "ipython",
    "version": 3
   },
   "file_extension": ".py",
   "mimetype": "text/x-python",
   "name": "python",
   "nbconvert_exporter": "python",
   "pygments_lexer": "ipython3",
   "version": "3.7.3"
  }
 },
 "nbformat": 4,
 "nbformat_minor": 2
}
